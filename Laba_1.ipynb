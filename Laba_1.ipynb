{
  "nbformat": 4,
  "nbformat_minor": 0,
  "metadata": {
    "colab": {
      "provenance": [],
      "authorship_tag": "ABX9TyN0colUE5jNHnbO3yqHloO2",
      "include_colab_link": true
    },
    "kernelspec": {
      "name": "python3",
      "display_name": "Python 3"
    },
    "language_info": {
      "name": "python"
    }
  },
  "cells": [
    {
      "cell_type": "markdown",
      "metadata": {
        "id": "view-in-github",
        "colab_type": "text"
      },
      "source": [
        "<a href=\"https://colab.research.google.com/github/ogkaza/Collab_v4/blob/main/Laba_1.ipynb\" target=\"_parent\"><img src=\"https://colab.research.google.com/assets/colab-badge.svg\" alt=\"Open In Colab\"/></a>"
      ]
    },
    {
      "cell_type": "code",
      "execution_count": 5,
      "metadata": {
        "colab": {
          "base_uri": "https://localhost:8080/",
          "height": 626
        },
        "id": "yIpvBoFGcoyg",
        "outputId": "e1a87ab6-bb22-4807-b00b-08ecd2046b20"
      },
      "outputs": [
        {
          "output_type": "stream",
          "name": "stdout",
          "text": [
            "<class 'pandas.core.frame.DataFrame'>\n",
            "RangeIndex: 28000 entries, 0 to 27999\n",
            "Data columns (total 12 columns):\n",
            " #   Column             Non-Null Count  Dtype \n",
            "---  ------             --------------  ----- \n",
            " 0   ID                 28000 non-null  int64 \n",
            " 1   Income             28000 non-null  int64 \n",
            " 2   Age                28000 non-null  int64 \n",
            " 3   Experience         28000 non-null  int64 \n",
            " 4   Married/Single     28000 non-null  object\n",
            " 5   House_Ownership    28000 non-null  object\n",
            " 6   Car_Ownership      28000 non-null  object\n",
            " 7   Profession         28000 non-null  object\n",
            " 8   CITY               28000 non-null  object\n",
            " 9   STATE              28000 non-null  object\n",
            " 10  CURRENT_JOB_YRS    28000 non-null  int64 \n",
            " 11  CURRENT_HOUSE_YRS  28000 non-null  int64 \n",
            "dtypes: int64(6), object(6)\n",
            "memory usage: 2.6+ MB\n",
            "Файл успешно сохранился в сессионное хранилище!\n"
          ]
        },
        {
          "output_type": "display_data",
          "data": {
            "text/plain": [
              "<IPython.core.display.Javascript object>"
            ],
            "application/javascript": [
              "\n",
              "    async function download(id, filename, size) {\n",
              "      if (!google.colab.kernel.accessAllowed) {\n",
              "        return;\n",
              "      }\n",
              "      const div = document.createElement('div');\n",
              "      const label = document.createElement('label');\n",
              "      label.textContent = `Downloading \"${filename}\": `;\n",
              "      div.appendChild(label);\n",
              "      const progress = document.createElement('progress');\n",
              "      progress.max = size;\n",
              "      div.appendChild(progress);\n",
              "      document.body.appendChild(div);\n",
              "\n",
              "      const buffers = [];\n",
              "      let downloaded = 0;\n",
              "\n",
              "      const channel = await google.colab.kernel.comms.open(id);\n",
              "      // Send a message to notify the kernel that we're ready.\n",
              "      channel.send({})\n",
              "\n",
              "      for await (const message of channel.messages) {\n",
              "        // Send a message to notify the kernel that we're ready.\n",
              "        channel.send({})\n",
              "        if (message.buffers) {\n",
              "          for (const buffer of message.buffers) {\n",
              "            buffers.push(buffer);\n",
              "            downloaded += buffer.byteLength;\n",
              "            progress.value = downloaded;\n",
              "          }\n",
              "        }\n",
              "      }\n",
              "      const blob = new Blob(buffers, {type: 'application/binary'});\n",
              "      const a = document.createElement('a');\n",
              "      a.href = window.URL.createObjectURL(blob);\n",
              "      a.download = filename;\n",
              "      div.appendChild(a);\n",
              "      a.click();\n",
              "      div.remove();\n",
              "    }\n",
              "  "
            ]
          },
          "metadata": {}
        },
        {
          "output_type": "display_data",
          "data": {
            "text/plain": [
              "<IPython.core.display.Javascript object>"
            ],
            "application/javascript": [
              "download(\"download_551e50f2-c461-464a-9998-0d57ff991a20\", \"result.csv\", 212907)"
            ]
          },
          "metadata": {}
        },
        {
          "output_type": "display_data",
          "data": {
            "text/plain": [
              "<Figure size 432x288 with 1 Axes>"
            ],
            "image/png": "[encoded data removed]"
          },
          "metadata": {
            "needs_background": "light"
          }
        }
      ],
      "source": [
        "from google.colab import files\n",
        "import os\n",
        "import pandas as pd\n",
        "import seaborn as sns\n",
        "from sklearn.preprocessing import StandardScaler\n",
        "from sklearn.linear_model import LogisticRegression\n",
        "from sklearn.metrics import confusion_matrix\n",
        "from sklearn.metrics import accuracy_score\n",
        "\n",
        "\n",
        "train = pd.read_csv('/content/Training Data.csv')\n",
        "train.head(3)\n",
        "\n",
        "test = pd.read_csv('/content/Test Data.csv')\n",
        "test.head(3)\n",
        "\n",
        "sns.countplot(x = 'Married/Single', hue = 'Risk_Flag', data = train)\n",
        "\n",
        "#train.isnull().sum()\n",
        "\n",
        "houseOwnership = pd.get_dummies(train['House_Ownership'], drop_first = True)\n",
        "marriedSingle = pd.get_dummies(train['Married/Single'], drop_first = True)\n",
        "carOwnership = pd.get_dummies(train['Car_Ownership'], drop_first = True)\n",
        "train = pd.concat([train, houseOwnership, marriedSingle, carOwnership],axis = 1)\n",
        "train.drop(['House_Ownership', 'Married/Single', 'Car_Ownership', 'Profession', 'CITY', 'STATE', 'Id', 'Experience'], axis = 1, inplace = True)\n",
        "\n",
        "\n",
        "scaler = StandardScaler()\n",
        "cols_to_scale = ['Income', 'Age', 'CURRENT_JOB_YRS', 'CURRENT_HOUSE_YRS']\n",
        "scaler.fit(train[cols_to_scale])\n",
        "train[cols_to_scale] = scaler.transform(train[cols_to_scale])\n",
        "\n",
        "X_train = train.drop('Risk_Flag', axis = 1)\n",
        "y_train = train['Risk_Flag']\n",
        "\n",
        "model = LogisticRegression()\n",
        "model.fit(X_train, y_train)\n",
        "LogisticRegression()\n",
        "\n",
        "y_pred_train = model.predict(X_train)\n",
        "conf_matrix = confusion_matrix(y_train, y_pred_train)\n",
        "conf_matrix_df = pd.DataFrame(conf_matrix)\n",
        "conf_matrix_df\n",
        "conf_matrix_labels = pd.DataFrame(conf_matrix, columns = ['Прогноз рисковано', 'Прогноз не рисковано'], index = ['Факт рисковано', 'Факт не рисковано'])\n",
        "conf_matrix_labels\n",
        "\n",
        "model_accuracy = accuracy_score(y_train, y_pred_train)\n",
        "round(model_accuracy, 3)\n",
        "\n",
        "\n",
        "#///////////////////////////////////////////////////////////////////////////////////////////////////\n",
        "test.info()\n",
        "X_test = test\n",
        "\n",
        "houseOwnership = pd.get_dummies(X_test['House_Ownership'], drop_first = True)\n",
        "marriedSingle = pd.get_dummies(X_test['Married/Single'], drop_first = True)\n",
        "carOwnership = pd.get_dummies(X_test['Car_Ownership'], drop_first = True)\n",
        "\n",
        "X_test = pd.concat([test, houseOwnership, marriedSingle, carOwnership], axis = 1)\n",
        "X_test.drop(['House_Ownership', 'Married/Single', 'Car_Ownership', 'Profession', 'CITY', 'STATE', 'ID', 'Experience'], axis = 1, inplace = True)\n",
        "\n",
        "X_test[cols_to_scale] = scaler.transform(X_test[cols_to_scale])\n",
        "\n",
        "X_test.head(3)\n",
        "\n",
        "X_test.columns = X_test.columns.map(str)\n",
        "y_pred_test = model.predict(X_test)\n",
        "y_pred_test[:10]\n",
        "\n",
        "ids = test['ID']\n",
        "result = pd.DataFrame({'ID': ids, 'Risk_Flag': y_pred_test})\n",
        "result.head(10)\n",
        "\n",
        "result.to_csv('result.csv', index = False)\n",
        "print('Файл успешно сохранился в сессионное хранилище!')\n",
        "files.download('/content/result.csv')"
      ]
    }
  ]
}